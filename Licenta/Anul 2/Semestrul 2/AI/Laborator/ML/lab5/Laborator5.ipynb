{
 "cells": [
  {
   "cell_type": "code",
   "execution_count": 1,
   "metadata": {
    "colab": {
     "base_uri": "https://localhost:8080/"
    },
    "id": "jBqaRKCaivmc",
    "outputId": "6af19dd7-c578-45fa-e256-b6d08e4fd1d1"
   },
   "outputs": [
    {
     "name": "stdout",
     "output_type": "stream",
     "text": [
      "Archive:  data_lab6.zip\n",
      "  inflating: data/prices.npy         \n",
      "  inflating: data/training_data.npy  \n"
     ]
    }
   ],
   "source": [
    "  !unzip data_lab6.zip\n"
   ]
  },
  {
   "cell_type": "code",
   "execution_count": 2,
   "metadata": {
    "colab": {
     "base_uri": "https://localhost:8080/"
    },
    "id": "eLF3_tJgjMC1",
    "outputId": "665e48aa-b368-434b-fb3f-6ce9db153476"
   },
   "outputs": [
    {
     "name": "stdout",
     "output_type": "stream",
     "text": [
      "The first 4 samples are:\n",
      "  [[2.0150e+03 4.1000e+04 1.9670e+01 1.5820e+03 1.2620e+02 5.0000e+00\n",
      "  1.0000e+00 0.0000e+00 1.0000e+00 0.0000e+00 0.0000e+00 0.0000e+00\n",
      "  1.0000e+00 0.0000e+00]\n",
      " [2.0110e+03 4.6000e+04 1.8200e+01 1.1990e+03 8.8700e+01 5.0000e+00\n",
      "  1.0000e+00 0.0000e+00 0.0000e+00 1.0000e+00 0.0000e+00 0.0000e+00\n",
      "  1.0000e+00 0.0000e+00]\n",
      " [2.0120e+03 8.7000e+04 2.0770e+01 1.2480e+03 8.8760e+01 7.0000e+00\n",
      "  1.0000e+00 0.0000e+00 1.0000e+00 0.0000e+00 0.0000e+00 0.0000e+00\n",
      "  1.0000e+00 0.0000e+00]\n",
      " [2.0130e+03 8.6999e+04 2.3080e+01 1.4610e+03 6.3100e+01 5.0000e+00\n",
      "  1.0000e+00 0.0000e+00 1.0000e+00 0.0000e+00 0.0000e+00 0.0000e+00\n",
      "  1.0000e+00 0.0000e+00]]\n",
      "The first 4 prices are:\n",
      "  [12.5  4.5  6.   3.5]\n"
     ]
    }
   ],
   "source": [
    "import numpy as np \n",
    "from sklearn.utils import shuffle \n",
    "# load training data\n",
    "training_data = np.load('data/training_data.npy') \n",
    "prices = np.load('data/prices.npy') \n",
    "# print the first 4 samples \n",
    "print('The first 4 samples are:\\n ', training_data[:4]) \n",
    "print('The first 4 prices are:\\n ', prices[:4]) \n",
    "# shuffle \n",
    "training_data, prices = shuffle(training_data, prices, random_state=0)"
   ]
  },
  {
   "cell_type": "markdown",
   "metadata": {
    "id": "uAzIYXXVRAnV"
   },
   "source": [
    "#### Exercitiul 1"
   ]
  },
  {
   "cell_type": "markdown",
   "metadata": {
    "id": "CLsIRnBtQuV7"
   },
   "source": [
    "Pentru primul exercitiu putem folosi functia din laboratorul trecut, si o apelam cu parametrul type='standard'."
   ]
  },
  {
   "cell_type": "code",
   "execution_count": 3,
   "metadata": {
    "id": "U-gqExjOjtv3"
   },
   "outputs": [],
   "source": [
    "from sklearn.preprocessing import StandardScaler, Normalizer\n",
    "def normalize_data_v2(train_data, test_data, type=None):\n",
    "  if type=='standard':\n",
    "    scaler = StandardScaler()\n",
    "    scaler.fit(train_data)\n",
    "    train_data = scaler.transform(train_data)\n",
    "    test_data = scaler.transform(test_data)\n",
    "  elif type=='l2':\n",
    "    normalizer = Normalizer(norm='l2')\n",
    "    train_data = normalizer.transform(train_data)\n",
    "    test_data = normalizer.transform(test_data)\n",
    "  elif type =='l1':\n",
    "    normalizer = Normalizer(norm='l1')\n",
    "    train_data = normalizer.transform(train_data)\n",
    "    test_data = normalizer.transform(test_data)\n",
    "  return train_data, test_data"
   ]
  },
  {
   "cell_type": "markdown",
   "metadata": {
    "id": "P9uEUvu8RGWJ"
   },
   "source": [
    "#### Exercitiul 2\n",
    "Pentru exercitiul 2 este nevoie sa evaluam performanta modelului folosind validarea incrucisata cu 3 fold-uri. Pentru asta impartim setul de antrenare in 3 subset-uri de lungime egala si antrenam pe 2 dintre ele si testam pe cel care a ramas(calculam metricile MSE si MAE pt subset-ul acesta). Si repetam asta pentru toate alegerile posibile.\n",
    "\n",
    "Din punct de vedere al implementarii ne folosim de clasa KFold, care ne intoarce iterativ indecsii pentru toate alegerile posibile ale celor 2 subseturi de antrenare si al celui de testare.\n",
    "\n",
    "\n",
    "Mai jos sunt ilustrate cele 3 cazuri de impartire in subset-uri. Deci, Fold1 este prima iteratie a for-ului, Fold 2 a 2-a iteratie, iar Fold 3 este a 3-a.\n",
    "\n",
    "In imagine este ilustrat si cum se testeaza pe un subset de test care este pus deoparte, dar pentru noi nu este cazul, nu avem un asemenea subset.\n",
    "\n",
    "\n",
    "\n",
    "\n"
   ]
  },
  {
   "cell_type": "markdown",
   "metadata": {
    "id": "6jwd7HQYXiCc"
   },
   "source": [
    "![3-fold-cross-validation-and-final-test-diagram-The-dataset-was-divided-into-four.png](data:image/png;base64,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)"
   ]
  },
  {
   "cell_type": "code",
   "execution_count": 5,
   "metadata": {
    "colab": {
     "base_uri": "https://localhost:8080/"
    },
    "id": "jDS0lYwLj5YG",
    "outputId": "0d20cdf6-9842-4bd0-89bb-45d846e73ec2"
   },
   "outputs": [
    {
     "name": "stdout",
     "output_type": "stream",
     "text": [
      "Train Index:  [   0    1    2 ... 4873 4874 4876]\n",
      "Test Index:  [   6    8   12 ... 4875 4877 4878]\n",
      "Train Index:  [   2    3    4 ... 4875 4877 4878]\n",
      "Test Index:  [   0    1    7 ... 4869 4872 4876]\n",
      "Train Index:  [   0    1    6 ... 4876 4877 4878]\n",
      "Test Index:  [   2    3    4 ... 4871 4873 4874]\n",
      "Mean mse: 3.163104\n",
      "Mean mae: 1.3170942\n"
     ]
    }
   ],
   "source": [
    "from sklearn.linear_model import LinearRegression, Ridge, Lasso\n",
    "from sklearn.metrics import mean_squared_error, mean_absolute_error\n",
    " # definirea modelelor \n",
    "from sklearn.model_selection import KFold\n",
    "cv = KFold(n_splits=3,random_state=42,shuffle=True)\n",
    "mse = []\n",
    "mae = []\n",
    "for train_index, test_index in cv.split(training_data):\n",
    "\n",
    "    print(\"Train Index: \", train_index)\n",
    "    print(\"Test Index: \", test_index)\n",
    "\n",
    "    X_train, X_test, y_train, y_test = training_data[train_index], training_data[test_index], prices[train_index], prices[test_index]\n",
    "    X_train, X_test = normalize_data_v2(X_train,X_test, type='standard')\n",
    "    linear_regression_model = LinearRegression()\n",
    "    linear_regression_model.fit(X_train, y_train)\n",
    "    output = linear_regression_model.predict(X_test)\n",
    "   \n",
    "    mse.append(mean_squared_error(y_test, output))\n",
    "    mae.append(mean_absolute_error(y_test, output))\n",
    "  \n",
    "print(\"Mean mse:\", np.mean(mse))\n",
    "\n",
    "print(\"Mean mae:\", np.mean(mae))\n",
    "    "
   ]
  },
  {
   "cell_type": "markdown",
   "metadata": {
    "id": "aDO2qd9iV-bb"
   },
   "source": [
    "#### Exercitiul 3\n",
    "\n",
    "In exercitiul 3 avem un exemplu de folosire a cross validarii pentru a alege cel mai bun parametru pentru un model (in cazul acesta parametrul este alpha si modelul este regresia Ridge).\n",
    "\n",
    "Din punct de vedere al implementarii, este foarte asemanator cu exercitiul 2, diferentele sunt: trebuie sa avem o iteratie pentru valorile lui alpha si sa folosim regresia Ridge.\n",
    "\n"
   ]
  },
  {
   "cell_type": "code",
   "execution_count": 7,
   "metadata": {
    "colab": {
     "base_uri": "https://localhost:8080/"
    },
    "id": "eYhdo1Ybjt6_",
    "outputId": "3a6a0559-14a3-4adc-c2dc-03fe4c7081ce"
   },
   "outputs": [
    {
     "name": "stdout",
     "output_type": "stream",
     "text": [
      "Train Index:  [   0    1    2 ... 4873 4874 4876]\n",
      "Test Index:  [   6    8   12 ... 4875 4877 4878]\n",
      "Train Index:  [   2    3    4 ... 4875 4877 4878]\n",
      "Test Index:  [   0    1    7 ... 4869 4872 4876]\n",
      "Train Index:  [   0    1    6 ... 4876 4877 4878]\n",
      "Test Index:  [   2    3    4 ... 4871 4873 4874]\n",
      "Alpha:1.0, Mean mse:3.1630923748016357\n",
      "Alpha:1.0, Mean mae:1.3170708417892456\n",
      "\n",
      "Alpha:10.0, Mean mse:3.16306471824646\n",
      "Alpha:10.0, Mean mae:1.3168717622756958\n",
      "\n",
      "Alpha:100.0, Mean mse:3.168887138366699\n",
      "Alpha:100.0, Mean mae:1.3163591623306274\n",
      "\n",
      "Alpha:1000.0, Mean mse:3.4315528869628906\n",
      "Alpha:1000.0, Mean mae:1.365923285484314\n",
      "\n"
     ]
    }
   ],
   "source": [
    "from sklearn.linear_model import LinearRegression, Ridge, Lasso\n",
    "from sklearn.metrics import mean_squared_error, mean_absolute_error\n",
    " # definirea modelelor \n",
    "from sklearn.model_selection import KFold\n",
    "cv = KFold(n_splits=3,random_state=42,shuffle=True)\n",
    "alphas = [1.,10.,100.,1000.]\n",
    "mse_dict = {}\n",
    "mae_dict = {}\n",
    "for train_index, test_index in cv.split(training_data):\n",
    "\n",
    "    print(\"Train Index: \", train_index)\n",
    "    print(\"Test Index: \", test_index)\n",
    "    X_train, X_test, y_train, y_test = training_data[train_index], training_data[test_index],\\\n",
    "     prices[train_index], prices[test_index]\n",
    "    X_train, X_test = normalize_data_v2(X_train,X_test, type='standard')\n",
    "      \n",
    "    for alpha in alphas:\n",
    "      linear_regression_model = Ridge(alpha=alpha)\n",
    "      linear_regression_model.fit(X_train, y_train)\n",
    "      output = linear_regression_model.predict(X_test)\n",
    "      if alpha not in mse_dict:\n",
    "        mse_dict[alpha] =[mean_squared_error(y_test, output)]\n",
    "      else:\n",
    "        mse_dict[alpha].append(mean_squared_error(y_test, output))\n",
    "\n",
    "      if alpha not in mae_dict:\n",
    "        mae_dict[alpha] =[mean_absolute_error(y_test, output)]\n",
    "      else:\n",
    "        mae_dict[alpha].append(mean_absolute_error(y_test, output))\n",
    "      \n",
    "      \n",
    "for alpha in alphas:\n",
    "  print(f\"Alpha:{alpha}, Mean mse:{np.mean(mse_dict[alpha])}\")\n",
    "\n",
    "  print(f\"Alpha:{alpha}, Mean mae:{np.mean(mae_dict[alpha])}\\n\")\n",
    "    "
   ]
  },
  {
   "cell_type": "markdown",
   "metadata": {
    "id": "Ol9q90BJXa4T"
   },
   "source": [
    "#### Exercitiul 4\n",
    "\n",
    "Importanta atributelor este proportionala cu valoarea absoluta a coeficientului asociat (w). Astfel cel mai semnificativ atribut este cel cu coeficientul cel mai mare in valoare absoluta. In cazul nostru este atributul 0, care conform informatiei din laborator corespunde cu anul fabricatiei. "
   ]
  },
  {
   "cell_type": "code",
   "execution_count": null,
   "metadata": {
    "colab": {
     "base_uri": "https://localhost:8080/"
    },
    "id": "cQhXoacarqlf",
    "outputId": "5b850fb0-39ea-4517-80b2-374b22052b63"
   },
   "outputs": [
    {
     "data": {
      "text/plain": [
       "Ridge(alpha=10)"
      ]
     },
     "execution_count": 58,
     "metadata": {},
     "output_type": "execute_result"
    }
   ],
   "source": [
    "linear_regression_model = Ridge(alpha=10)\n",
    "X_train, _ = normalize_data_v2(training_data,training_data, type='standard')\n",
    "linear_regression_model.fit(X_train, prices)"
   ]
  },
  {
   "cell_type": "code",
   "execution_count": null,
   "metadata": {
    "colab": {
     "base_uri": "https://localhost:8080/"
    },
    "id": "5MSwI5HUsFaF",
    "outputId": "54a900ae-4e4f-4d94-8da3-9a44fcaf8007"
   },
   "outputs": [
    {
     "data": {
      "text/plain": [
       "array([ 1.6635194 , -0.15533523, -0.460348  ,  0.40463245,  1.3356806 ,\n",
       "        0.13251357, -0.08683431,  0.        ,  0.36666504, -0.36666527,\n",
       "        0.        ,  0.        , -0.22937657,  0.2293704 ], dtype=float32)"
      ]
     },
     "execution_count": 59,
     "metadata": {},
     "output_type": "execute_result"
    }
   ],
   "source": [
    "linear_regression_model.coef_"
   ]
  },
  {
   "cell_type": "code",
   "execution_count": null,
   "metadata": {
    "colab": {
     "base_uri": "https://localhost:8080/"
    },
    "id": "rOKZVa5VsLk5",
    "outputId": "fef4b3e3-ef51-4367-f015-00fa269a548c"
   },
   "outputs": [
    {
     "data": {
      "text/plain": [
       "5.69513"
      ]
     },
     "execution_count": 60,
     "metadata": {},
     "output_type": "execute_result"
    }
   ],
   "source": [
    "linear_regression_model.intercept_"
   ]
  },
  {
   "cell_type": "code",
   "execution_count": null,
   "metadata": {
    "id": "pXK18ghTsZXh"
   },
   "outputs": [],
   "source": []
  },
  {
   "cell_type": "markdown",
   "metadata": {
    "id": "0BVbyK0hZlJZ"
   },
   "source": [
    "#### Ilustrare folosire Random Forest si Grid Search CV"
   ]
  },
  {
   "cell_type": "markdown",
   "metadata": {
    "id": "ICUN0-SNdB8a"
   },
   "source": [
    "Pentru a ilustra cum functioneaza RandomForest si GridSearchCV, o sa folosesc setul de date pus la dispozitie in laboratorul 3.\n",
    "\n",
    "Subliniez ca aceste metode sunt doar niste sugestii, nu inseamna neaparat ca se vor descurca foarte bine in competitia Kaggle.\n",
    "\n"
   ]
  },
  {
   "cell_type": "code",
   "execution_count": 8,
   "metadata": {
    "colab": {
     "base_uri": "https://localhost:8080/"
    },
    "id": "BAsRVL3gZtLG",
    "outputId": "4262299c-f3cb-42d3-f40b-18ca94d18ee2"
   },
   "outputs": [
    {
     "name": "stdout",
     "output_type": "stream",
     "text": [
      "Archive:  data_MNIST.zip\n",
      "  inflating: data/test_images.txt    \n",
      "  inflating: data/test_labels.txt    \n",
      "  inflating: data/train_images.txt   \n",
      "  inflating: data/train_labels.txt   \n"
     ]
    }
   ],
   "source": [
    "!unzip data_MNIST.zip"
   ]
  },
  {
   "cell_type": "code",
   "execution_count": 43,
   "metadata": {
    "id": "yr9nWI4ZaCCP"
   },
   "outputs": [],
   "source": [
    "\n",
    "train_images = np.loadtxt('./data/train_images.txt') \n",
    "train_labels = np.loadtxt('./data/train_labels.txt', 'float')\n",
    "test_images = np.loadtxt('./data/test_images.txt') \n",
    "test_labels = np.loadtxt('./data/test_labels.txt', 'float')\n",
    "train_labels = train_labels.astype(dtype=int)\n",
    "test_labels = test_labels.astype(dtype=int)"
   ]
  },
  {
   "cell_type": "code",
   "execution_count": 39,
   "metadata": {
    "id": "j9GjaHSmbJmS"
   },
   "outputs": [],
   "source": []
  },
  {
   "cell_type": "markdown",
   "metadata": {
    "id": "NCwWwy5NdxF3"
   },
   "source": [
    "RandomForest este un model de clasificare puternic datorita faptului ca este un ansamblu de modele mai slabe(arbori de decizie) care sunt antrenati pe subset-uri diferite de date si cu subset-uri diferite de atribute. Iar la final aceste modele slabe voteaza clasa care va fi considerata predictie.\n",
    "\n",
    "Are un parametru important n_estimators, prin este specificat numarul de modele slabe implicate in proces.\n",
    "\n",
    "Mai jos antrenam un astfel de model RandomForest si vedem ca acuratetea este de 87%"
   ]
  },
  {
   "cell_type": "code",
   "execution_count": 63,
   "metadata": {
    "colab": {
     "base_uri": "https://localhost:8080/"
    },
    "id": "DfI0N39eaVQd",
    "outputId": "c622b150-1a9b-419c-9320-de4547986b41"
   },
   "outputs": [
    {
     "data": {
      "text/plain": [
       "RandomForestClassifier(n_estimators=20, random_state=10)"
      ]
     },
     "execution_count": 63,
     "metadata": {},
     "output_type": "execute_result"
    }
   ],
   "source": [
    "from sklearn.ensemble import RandomForestClassifier\n",
    "rf = RandomForestClassifier(n_estimators=20, random_state=10)\n",
    "rf.fit(train_images,train_labels)"
   ]
  },
  {
   "cell_type": "code",
   "execution_count": 64,
   "metadata": {
    "colab": {
     "base_uri": "https://localhost:8080/"
    },
    "id": "la-16qbOakft",
    "outputId": "05f5b2e6-eba0-4285-f818-284fd5fd1981"
   },
   "outputs": [
    {
     "data": {
      "text/plain": [
       "0.87"
      ]
     },
     "execution_count": 64,
     "metadata": {},
     "output_type": "execute_result"
    }
   ],
   "source": [
    "from sklearn.metrics import accuracy_score\n",
    "\n",
    "pred_labels = rf.predict(test_images)\n",
    "accuracy_score(test_labels,pred_labels)"
   ]
  },
  {
   "cell_type": "markdown",
   "metadata": {
    "id": "JEST8l1dfMFL"
   },
   "source": [
    "Mai departe ilustram cum putem folosi GridSearchCV pentru a gasi combinatia buna de parametrii pentru RandomForest. Pe langa parametrul 'n_estimators', mai cautam si valoarea corecta pentru 'criterion'.\n",
    "\n",
    "\n",
    "Cum functioneaza GridSearchCV? Cu ajutorul cross validarii gaseste combinatia cea mai buna de parametrii atunci cand este executata functia fit. Deci, executa cross validare pentru fiecare combinatie posibila (de aceea e posibil sa dureze mult in unele cazuri).\n",
    "\n",
    "Vedem ca dupa acest search de parametrii acuratetea a crescut la 90%."
   ]
  },
  {
   "cell_type": "code",
   "execution_count": 61,
   "metadata": {
    "colab": {
     "base_uri": "https://localhost:8080/"
    },
    "id": "ZD6QZZXZb9WL",
    "outputId": "fb343363-000a-40eb-eccb-7626b093ba11"
   },
   "outputs": [
    {
     "data": {
      "text/plain": [
       "GridSearchCV(estimator=RandomForestClassifier(random_state=10),\n",
       "             param_grid={'criterion': ['gini', 'entropy'],\n",
       "                         'n_estimators': [5, 10, 50, 100, 150, 200]})"
      ]
     },
     "execution_count": 61,
     "metadata": {},
     "output_type": "execute_result"
    }
   ],
   "source": [
    "from sklearn.model_selection import GridSearchCV\n",
    "randomForest = RandomForestClassifier(random_state=10)\n",
    "parameters = {'n_estimators':[5,10, 50, 100, 150, 200], 'criterion':[\"gini\", \"entropy\"]}\n",
    "cv = GridSearchCV(randomForest, parameters)\n",
    "cv.fit(train_images, train_labels)"
   ]
  },
  {
   "cell_type": "code",
   "execution_count": 62,
   "metadata": {
    "colab": {
     "base_uri": "https://localhost:8080/"
    },
    "id": "DIV2fKAAcqKX",
    "outputId": "2004128a-7cb5-4f24-ebc6-9e5eabe5aa3a"
   },
   "outputs": [
    {
     "data": {
      "text/plain": [
       "0.908"
      ]
     },
     "execution_count": 62,
     "metadata": {},
     "output_type": "execute_result"
    }
   ],
   "source": [
    "from sklearn.metrics import accuracy_score\n",
    "\n",
    "pred_labels = cv.predict(test_images)\n",
    "accuracy_score(test_labels,pred_labels)"
   ]
  }
 ],
 "metadata": {
  "colab": {
   "collapsed_sections": [],
   "name": "Laborator5.ipynb",
   "provenance": []
  },
  "kernelspec": {
   "display_name": "Python 3 (ipykernel)",
   "language": "python",
   "name": "python3"
  },
  "language_info": {
   "codemirror_mode": {
    "name": "ipython",
    "version": 3
   },
   "file_extension": ".py",
   "mimetype": "text/x-python",
   "name": "python",
   "nbconvert_exporter": "python",
   "pygments_lexer": "ipython3",
   "version": "3.10.0"
  }
 },
 "nbformat": 4,
 "nbformat_minor": 4
}
