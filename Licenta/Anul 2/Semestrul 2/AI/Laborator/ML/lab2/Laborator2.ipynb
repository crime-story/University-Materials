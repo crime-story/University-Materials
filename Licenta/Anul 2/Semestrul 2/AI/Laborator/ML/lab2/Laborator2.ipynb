{
 "cells": [
  {
   "cell_type": "markdown",
   "id": "oiGJ4FucroUI",
   "metadata": {
    "id": "oiGJ4FucroUI"
   },
   "source": [
    "**Exercitiul 1**"
   ]
  },
  {
   "cell_type": "code",
   "execution_count": 1,
   "id": "7c4d3286",
   "metadata": {
    "id": "7c4d3286"
   },
   "outputs": [],
   "source": [
    "train = [(160, 'F'), (165, 'F'), (155, 'F'), (172, 'F'), (175, 'B'), (180, 'B'), (177, 'B'), (190, 'B')]"
   ]
  },
  {
   "cell_type": "markdown",
   "id": "z8ptXaoFryeG",
   "metadata": {
    "id": "z8ptXaoFryeG"
   },
   "source": [
    "Urmatoarea celula calculeaza probabilitatile pentru cele 2 clase (P(c) in pdf-ul laboratorului).\n",
    "\n",
    "prob_classes - este un dictionar in care se vor retine aceste probabilitati. Cheile dictionarului sunt clasele, iar valorile sunt probabilitatile"
   ]
  },
  {
   "cell_type": "code",
   "execution_count": 4,
   "id": "1442081b",
   "metadata": {
    "colab": {
     "base_uri": "https://localhost:8080/"
    },
    "id": "1442081b",
    "outputId": "25ec888c-5b8f-4904-f93b-c98a471a0c23"
   },
   "outputs": [
    {
     "name": "stdout",
     "output_type": "stream",
     "text": [
      "P(c): {'F': 0.5, 'B': 0.5}\n"
     ]
    }
   ],
   "source": [
    "prob_classes = {}\n",
    "for elem in train:\n",
    "    if elem[1] not in prob_classes:\n",
    "        prob_classes[elem[1]]=1\n",
    "    else:\n",
    "        prob_classes[elem[1]]+=1\n",
    "for clazz in prob_classes:\n",
    "    prob_classes[clazz] /=len(train)\n",
    "print('P(c):', prob_classes)"
   ]
  },
  {
   "cell_type": "markdown",
   "id": "Mx113OsPuGgP",
   "metadata": {
    "id": "Mx113OsPuGgP"
   },
   "source": [
    "Urmatoarea celula transforma datele de antrenare in categorii. Este verificata fiecare inaltime din variabila train si in functie de valoarea ei este asignata unei categorii (1, 2, 3 sau 4)"
   ]
  },
  {
   "cell_type": "code",
   "execution_count": 5,
   "id": "553606a5",
   "metadata": {
    "id": "553606a5"
   },
   "outputs": [],
   "source": [
    "new_train = []\n",
    "for elem in train:\n",
    "    if 150 <= elem[0] <=160:\n",
    "        new_train.append(1)\n",
    "    elif 161 <= elem[0] <=170:\n",
    "        new_train.append(2)\n",
    "    elif 171 <=elem[0] <=180:\n",
    "        new_train.append(3)\n",
    "    elif 181 <=elem[0] <=190:\n",
    "        new_train.append(4)\n"
   ]
  },
  {
   "cell_type": "markdown",
   "id": "KIzXnb2pv2G2",
   "metadata": {
    "id": "KIzXnb2pv2G2"
   },
   "source": [
    "Scopul este sa calculam P(F|h=3) si P(B|h=3). Pentru a face asta este nevoie sa obtinem P(h=3|F), P(h=3|B) si P(h=3).\n",
    "\n",
    "Observatie: P(F) si P(B) le avem deja, sunt stocate in prob_classes.\n",
    "\n",
    "P(h=3|F) = (numarul de exemple din datele de antrenare ale clasei F care au inaltimea din categorial 3) / (numarul de exemple de antrenare ale clasei F)\n",
    "\n",
    "P(h=3|B) = (numarul de exemple din datele de antrenare ale clasei B care au inaltimea din categorial 3) / (numarul de exemple de antrenare ale clasei B)\n",
    "\n",
    "P(h=3) = (numarul de exemple din categoria 3)/ (numarul total de exemple)\n",
    "\n",
    "Codul din celula urmatoare calculeaza aceste count-uri necesare pentru a calcula probabilitatile.\n",
    "Apoi salveaza P(h=3|F) in prob_3_given_girl, P(h=3|B) in prob_3_given_boy si P(h=3) in prob_att_3\n",
    "\n"
   ]
  },
  {
   "cell_type": "code",
   "execution_count": null,
   "id": "qFyF_NfhvlKC",
   "metadata": {
    "id": "qFyF_NfhvlKC"
   },
   "outputs": [],
   "source": [
    "count_girl=0\n",
    "count_boy=0\n",
    "count_att3_girl=0\n",
    "count_att3_boy=0\n",
    "for i,elem in enumerate(train):\n",
    "    if elem[1] == 'F':\n",
    "        count_girl +=1\n",
    "        if new_train[i] == 3:\n",
    "            count_att3_girl+=1\n",
    "    else:\n",
    "        count_boy+=1\n",
    "        if new_train[i] ==3:\n",
    "            count_att3_boy+=1\n",
    "prob_3_given_girl = count_att3_girl/count_girl\n",
    "prob_3_given_boy = count_att3_boy/count_boy\n",
    "prob_att_3 = (count_att3_girl+count_att3_boy)/len(train)"
   ]
  },
  {
   "cell_type": "markdown",
   "id": "lC_aslYIykxp",
   "metadata": {
    "id": "lC_aslYIykxp"
   },
   "source": [
    "Probabilitatile pe care le-am obtinut, le inseram in formula lui Bayes si obtinem probabilitatile cerute de exercitiu. Asta se intampla in urmatoarea celula"
   ]
  },
  {
   "cell_type": "code",
   "execution_count": null,
   "id": "b272eeeb",
   "metadata": {
    "id": "b272eeeb"
   },
   "outputs": [],
   "source": [
    "prob_girl = prob_classes['F'] * prob_3_given_girl/ prob_att_3\n",
    "prob_boy = prob_classes['B'] * prob_3_given_boy/ prob_att_3"
   ]
  },
  {
   "cell_type": "code",
   "execution_count": null,
   "id": "7877096a",
   "metadata": {
    "id": "7877096a",
    "outputId": "0118b6fe-affb-4181-ebbb-3c3db6b015ee"
   },
   "outputs": [
    {
     "name": "stdout",
     "output_type": "stream",
     "text": [
      "0.75 0.25\n"
     ]
    }
   ],
   "source": [
    "print(prob_boy,prob_girl)"
   ]
  },
  {
   "cell_type": "markdown",
   "id": "A4xZgzXUzDr3",
   "metadata": {
    "id": "A4xZgzXUzDr3"
   },
   "source": [
    "**Exercitiul 2**"
   ]
  },
  {
   "cell_type": "markdown",
   "id": "p34676VJzV1L",
   "metadata": {
    "id": "p34676VJzV1L"
   },
   "source": [
    "Citim subsetul de imagini MNIST si le salvam in train_images si test_images.\n",
    "\n",
    "train_images -> este un vector cu 1000 de imagini (fiecare imagine e reprezentata de un vector cu 784 de elemente). Deci, train_images este o matrice cu 1000 de linii si 784 de coloane.\n",
    "\n",
    "test_images -> este un vector cu 50 de imagini (fiecare imagine e reprezentata de un vector cu 784 de elemente). Deci, test_images este o matrice cu 500 de linii si 784 de coloane.\n",
    "\n",
    "train_labels -> este un vector cu 1000 de componente, si componenta de pe pozitia *i* ne spune cifra din imaginea de pe linia *i* din matricea train_images\n",
    "\n",
    "test_labels -> este un vector cu 500 de componente, si componenta de pe pozitia *i* ne spune cifra din imaginea de pe linia *i* din matricea test_images\n",
    "\n"
   ]
  },
  {
   "cell_type": "code",
   "execution_count": 9,
   "id": "6lqM_a9h34y_",
   "metadata": {
    "colab": {
     "base_uri": "https://localhost:8080/"
    },
    "id": "6lqM_a9h34y_",
    "outputId": "fdc06e20-918c-4846-8ee2-b9a3b914bb9f"
   },
   "outputs": [
    {
     "name": "stdout",
     "output_type": "stream",
     "text": [
      "Archive:  ./data_MNIST.zip\n",
      "  inflating: data/test_images.txt    \n",
      "  inflating: data/test_labels.txt    \n",
      "  inflating: data/train_images.txt   \n",
      "  inflating: data/train_labels.txt   \n"
     ]
    }
   ],
   "source": [
    "!unzip ./data_MNIST.zip"
   ]
  },
  {
   "cell_type": "code",
   "execution_count": 12,
   "id": "cbf31764",
   "metadata": {
    "id": "cbf31764"
   },
   "outputs": [],
   "source": [
    "import numpy as np\n",
    "\n",
    "train_images = np.loadtxt('./data/train_images.txt') \n",
    "train_labels = np.loadtxt('./data/train_labels.txt', 'float')\n",
    "test_images = np.loadtxt('./data/test_images.txt') \n",
    "test_labels = np.loadtxt('./data/test_labels.txt', 'float')"
   ]
  },
  {
   "cell_type": "code",
   "execution_count": 13,
   "id": "QHq71aTt4a6z",
   "metadata": {
    "id": "QHq71aTt4a6z"
   },
   "outputs": [],
   "source": []
  },
  {
   "cell_type": "markdown",
   "id": "vP5QGbMs0t8M",
   "metadata": {
    "id": "vP5QGbMs0t8M"
   },
   "source": [
    "Functia *get_intervals* de mai jos ne returneaza capetele intervalelor cu care putem categorisii pixeli.\n",
    "\n",
    "Pentru apelul *get_intervals(5)* functia va intoarce: [  0.,  64., 128., 192., 256.]. Ceea ce inseamna ca toti pixelii ce au valori intre 0 si 63 vor fi considerati din categoria 1, pixelii cu valori intre 64 si 127 in categoria 2, cei cu valori intre 128 si 191 in categoria 3 si cei cu valori intre 192 si 255 in categoria 4.\n",
    "\n",
    "Functia *values_to_bins* transforma matricea x (noi o sa apelam cu x=train_images si x=test_images) care contine pixeli, intr-o matrice de aceleasi dimensiuni in care pixelii sunt inlocuiti cu categoriile corespunzatoare."
   ]
  },
  {
   "cell_type": "code",
   "execution_count": 14,
   "id": "850d8fbf",
   "metadata": {
    "id": "850d8fbf"
   },
   "outputs": [],
   "source": [
    "def get_intervals(num_bins):\n",
    "    bins = np.linspace(start=0, stop=256, num=num_bins)\n",
    "    return bins\n",
    "\n",
    "def values_to_bins(x,bins):\n",
    "    new_x = np.zeros(x.shape)\n",
    "    for i, elem in enumerate(x):\n",
    "        new_x[i] = np.digitize(elem, bins)\n",
    "    return new_x - 1"
   ]
  },
  {
   "cell_type": "markdown",
   "id": "4rdIFtjY4krk",
   "metadata": {
    "id": "4rdIFtjY4krk"
   },
   "source": [
    "Urmatoarea celula face apelul catre functiile anterioare pentru a transforma imaginile de antrenare si test in vectori care contin doar valorile 0,1,2,3"
   ]
  },
  {
   "cell_type": "code",
   "execution_count": 15,
   "id": "ea7a8913",
   "metadata": {
    "id": "ea7a8913"
   },
   "outputs": [],
   "source": [
    "bins = get_intervals(5)\n",
    "x_train = values_to_bins(train_images,bins)\n",
    "x_test = values_to_bins(test_images,bins)"
   ]
  },
  {
   "cell_type": "code",
   "execution_count": 5,
   "id": "4878c0a5",
   "metadata": {
    "id": "4878c0a5"
   },
   "outputs": [],
   "source": []
  },
  {
   "cell_type": "markdown",
   "id": "M2kVGDWt5VgP",
   "metadata": {
    "id": "M2kVGDWt5VgP"
   },
   "source": [
    "**Exercitiul 3**"
   ]
  },
  {
   "cell_type": "markdown",
   "id": "9cqs98nY4hkU",
   "metadata": {
    "id": "9cqs98nY4hkU"
   },
   "source": [
    "Antrenarea modelului NaiveBayes (calcularea probabilitatilor necesare din datele de antrenare)  se face prin apelarea functiei *fit*, iar acuratetea pentru datele de test poate fi obtinuta cu functia *score*"
   ]
  },
  {
   "cell_type": "code",
   "execution_count": 16,
   "id": "85004a17",
   "metadata": {
    "colab": {
     "base_uri": "https://localhost:8080/"
    },
    "id": "85004a17",
    "outputId": "30dc5e7a-a815-4cca-b965-a390d0523a51"
   },
   "outputs": [
    {
     "data": {
      "text/plain": [
       "0.836"
      ]
     },
     "execution_count": 16,
     "metadata": {},
     "output_type": "execute_result"
    }
   ],
   "source": [
    "from sklearn.naive_bayes import MultinomialNB\n",
    "naive_bayes_model = MultinomialNB()\n",
    "naive_bayes_model.fit(x_train, train_labels)\n",
    "naive_bayes_model.score(x_test, test_labels)"
   ]
  },
  {
   "cell_type": "code",
   "execution_count": null,
   "id": "e5d1ed70",
   "metadata": {
    "id": "e5d1ed70"
   },
   "outputs": [],
   "source": []
  },
  {
   "cell_type": "markdown",
   "id": "6OUecRbR5eLt",
   "metadata": {
    "id": "6OUecRbR5eLt"
   },
   "source": [
    "**Exercitiul 4**\n",
    "\n",
    "Exact ce s-a facut pentru exercitiile 2 si 3, se face si pentru acest exercitiu. Doar ca este repetat pentru fiecare din n_bins"
   ]
  },
  {
   "cell_type": "code",
   "execution_count": null,
   "id": "2c5da799",
   "metadata": {
    "id": "2c5da799",
    "outputId": "0446e101-e314-40a2-d1d6-f568ca5486ef"
   },
   "outputs": [
    {
     "name": "stdout",
     "output_type": "stream",
     "text": [
      "Num bins 3, accuracy 0.83\n",
      "Num bins 5, accuracy 0.836\n",
      "Num bins 7, accuracy 0.842\n",
      "Num bins 9, accuracy 0.842\n",
      "Num bins 11, accuracy 0.842\n"
     ]
    }
   ],
   "source": [
    "num_bins = [3,5,7,9,11]\n",
    "for n_bins in num_bins:\n",
    "    bins = get_intervals(n_bins)\n",
    "    x_train = values_to_bins(train_images,bins)\n",
    "    x_test = values_to_bins(test_images,bins)\n",
    "  \n",
    "    naive_bayes_model = MultinomialNB()\n",
    "    naive_bayes_model.fit(x_train, train_labels)\n",
    "    print(f'Num bins {n_bins}, accuracy {naive_bayes_model.score(x_test, test_labels)}')"
   ]
  },
  {
   "cell_type": "markdown",
   "id": "OJVkU3MT5897",
   "metadata": {
    "id": "OJVkU3MT5897"
   },
   "source": [
    "**Exercitiul 5**\n",
    "\n",
    "Pentru acest exercitiu luam predictiile modelului pe intreg setul de test, cu functia *predict*.\n",
    "\n",
    "Si apoi iteram prin acestea si le comparam cu clasa reala a exemplului. Daca predictia e diferita de clasa reala atunci afisam exemplul."
   ]
  },
  {
   "cell_type": "code",
   "execution_count": 18,
   "id": "98157213",
   "metadata": {
    "colab": {
     "base_uri": "https://localhost:8080/",
     "height": 1000
    },
    "id": "98157213",
    "outputId": "4f4623b7-b386-4226-c447-eeeae00a490b"
   },
   "outputs": [
    {
     "data": {
      "image/png": "[encoded data removed]",
      "text/plain": [
       "<Figure size 432x288 with 1 Axes>"
      ]
     },
     "metadata": {
      "needs_background": "light"
     },
     "output_type": "display_data"
    },
    {
     "data": {
      "image/png": "[encoded data removed]",
      "text/plain": [
       "<Figure size 432x288 with 1 Axes>"
      ]
     },
     "metadata": {
      "needs_background": "light"
     },
     "output_type": "display_data"
    },
    {
     "data": {
      "image/png": "[encoded data removed]",
      "text/plain": [
       "<Figure size 432x288 with 1 Axes>"
      ]
     },
     "metadata": {
      "needs_background": "light"
     },
     "output_type": "display_data"
    },
    {
     "data": {
      "image/png": "[encoded data removed]",
      "text/plain": [
       "<Figure size 432x288 with 1 Axes>"
      ]
     },
     "metadata": {
      "needs_background": "light"
     },
     "output_type": "display_data"
    },
    {
     "data": {
      "image/png": "[encoded data removed]",
      "text/plain": [
       "<Figure size 432x288 with 1 Axes>"
      ]
     },
     "metadata": {
      "needs_background": "light"
     },
     "output_type": "display_data"
    },
    {
     "data": {
      "image/png": "[encoded data removed]",
      "text/plain": [
       "<Figure size 432x288 with 1 Axes>"
      ]
     },
     "metadata": {
      "needs_background": "light"
     },
     "output_type": "display_data"
    },
    {
     "data": {
      "image/png": "[encoded data removed]",
      "text/plain": [
       "<Figure size 432x288 with 1 Axes>"
      ]
     },
     "metadata": {
      "needs_background": "light"
     },
     "output_type": "display_data"
    },
    {
     "data": {
      "image/png": "[encoded data removed]",
      "text/plain": [
       "<Figure size 432x288 with 1 Axes>"
      ]
     },
     "metadata": {
      "needs_background": "light"
     },
     "output_type": "display_data"
    },
    {
     "data": {
      "image/png": "[encoded data removed]",
      "text/plain": [
       "<Figure size 432x288 with 1 Axes>"
      ]
     },
     "metadata": {
      "needs_background": "light"
     },
     "output_type": "display_data"
    },
    {
     "data": {
      "image/png": "[encoded data removed]",
      "text/plain": [
       "<Figure size 432x288 with 1 Axes>"
      ]
     },
     "metadata": {
      "needs_background": "light"
     },
     "output_type": "display_data"
    }
   ],
   "source": [
    "import matplotlib.pyplot as plt\n",
    "def show_misclassified_images(model, labels, images,num=10):\n",
    "    pred_labels = model.predict(images)\n",
    "    count = 0\n",
    "    for i in range(pred_labels.shape[0]):\n",
    "        if pred_labels[i] != labels[i]:\n",
    "            image = np.reshape(images[i], (28, 28))\n",
    "            plt.imshow(image.astype(np.uint8), cmap='gray')\n",
    "            plt.title(f'Predicted {pred_labels[i]}, ground truth {labels[i]}')\n",
    "            plt.show()\n",
    "            count+=1\n",
    "            if count == num:\n",
    "                break\n",
    "show_misclassified_images(naive_bayes_model, test_labels,test_images)\n"
   ]
  },
  {
   "cell_type": "code",
   "execution_count": null,
   "id": "7bce802d",
   "metadata": {
    "id": "7bce802d"
   },
   "outputs": [],
   "source": []
  },
  {
   "cell_type": "markdown",
   "id": "odOnKrQd64Yu",
   "metadata": {
    "id": "odOnKrQd64Yu"
   },
   "source": [
    "**Exercitiul 6**\n",
    "\n",
    "Functia confusion matrix primeste ca input predictiile si clasele reale si returneaza matricea de confuzie.\n",
    "\n",
    "Matricea de confuzie este patratica, de forma *nr_de_clase* x *nr_de_clase*.\n",
    "\n",
    "Fiecare element *cij* reprezinta de cate ori clasa *i* a fost prezisa ca fiind clasa *j*. ( in cazul nostru *i* si *j* se *plimba* de la 0 la 9)\n",
    "\n",
    "Deci, daca j este diferit de i atunci cij ne spune de cate ori clasa i a fost confuzata cu clasa j."
   ]
  },
  {
   "cell_type": "code",
   "execution_count": 20,
   "id": "0bd29054",
   "metadata": {
    "colab": {
     "base_uri": "https://localhost:8080/"
    },
    "id": "0bd29054",
    "outputId": "cb6cccb8-1de7-4299-9229-3e1f0acd2bc0"
   },
   "outputs": [
    {
     "name": "stdout",
     "output_type": "stream",
     "text": [
      "0.836\n",
      "[[51.  0.  0.  0.  0.  0.  1.  0.  1.  0.]\n",
      " [ 0. 48.  0.  0.  0.  0.  0.  0.  4.  0.]\n",
      " [ 2.  1. 50.  1.  1.  0.  1.  1.  1.  0.]\n",
      " [ 0.  0.  1. 49.  0.  0.  0.  0.  0.  3.]\n",
      " [ 0.  0.  0.  0. 33.  0.  0.  0.  2. 11.]\n",
      " [ 1.  0.  0.  9.  0. 34.  1.  0.  6.  1.]\n",
      " [ 1.  1.  0.  0.  1.  0. 43.  0.  2.  0.]\n",
      " [ 0.  1.  0.  0.  2.  0.  0. 41.  0.  6.]\n",
      " [ 0.  1.  3.  3.  1.  1.  1.  1. 34.  1.]\n",
      " [ 0.  0.  1.  1.  5.  0.  0.  0.  0. 35.]]\n"
     ]
    }
   ],
   "source": [
    "from sklearn.metrics import accuracy_score\n",
    "\n",
    "def confusion_matrix(pred_labels, labels):\n",
    "    dim = np.unique(pred_labels).shape[0]\n",
    "    confusion_matrix = np.zeros((dim,dim))\n",
    "    for i in range(labels.shape[0]):\n",
    "        confusion_matrix[int(labels[i]),int(pred_labels[i])]+=1\n",
    "    return confusion_matrix\n",
    "\n",
    "bins = get_intervals(5)\n",
    "x_train = values_to_bins(train_images,bins)\n",
    "x_test = values_to_bins(test_images,bins)\n",
    "\n",
    "naive_bayes_model = MultinomialNB()\n",
    "naive_bayes_model.fit(x_train, train_labels)\n",
    "naive_bayes_model.score(x_test, test_labels)\n",
    "\n",
    "pred_labels = naive_bayes_model.predict(x_test)\n",
    "print(accuracy_score(pred_labels, test_labels))\n",
    "print(confusion_matrix(pred_labels, test_labels))"
   ]
  },
  {
   "cell_type": "code",
   "execution_count": null,
   "id": "8a48c284",
   "metadata": {
    "id": "8a48c284"
   },
   "outputs": [],
   "source": []
  }
 ],
 "metadata": {
  "colab": {
   "collapsed_sections": [],
   "name": "Laborator2.ipynb",
   "provenance": []
  },
  "kernelspec": {
   "display_name": "Python 3 (ipykernel)",
   "language": "python",
   "name": "python3"
  },
  "language_info": {
   "codemirror_mode": {
    "name": "ipython",
    "version": 3
   },
   "file_extension": ".py",
   "mimetype": "text/x-python",
   "name": "python",
   "nbconvert_exporter": "python",
   "pygments_lexer": "ipython3",
   "version": "3.10.0"
  }
 },
 "nbformat": 4,
 "nbformat_minor": 5
}
