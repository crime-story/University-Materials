{
 "cells": [
  {
   "cell_type": "code",
   "execution_count": 1,
   "metadata": {},
   "outputs": [],
   "source": [
    "import numpy as np\n",
    "\n",
    "def f(x):\n",
    "    x = np.array(x, dtype = float)\n",
    "    y = 0.5 * (x**4) - 2 * (x**2) + x + 5\n",
    "    # y = 3 * (x**2) - 2 * x + 1\n",
    "    return y\n",
    "\n",
    "def f_prime(x):\n",
    "    x = np.array(x, dtype = float)\n",
    "    y = 2 * (x**3) - 4 * x + 1\n",
    "    # y = 6 * x - 2\n",
    "    return y\n",
    "\n",
    "def gradient_descent(x0, r, goal, gradient_type = 'analythical'):\n",
    "    x = [x0]\n",
    "    h = 0.0001\n",
    "    performance_goal_not_met = True\n",
    "\n",
    "    while performance_goal_not_met:\n",
    "        x_old = x[-1]\n",
    "\n",
    "        if gradient_type == 'analythical':\n",
    "            gradient = f_prime(x_old)\n",
    "        elif gradient_type == 'numeric':\n",
    "            gradient = (f(x_old + h) - f(x_old)) / h;\n",
    "\n",
    "        x_new = x_old - r * gradient\n",
    "\n",
    "        x += [x_new]\n",
    "        performance_goal_not_met = np.abs(x_new - x_old) > goal\n",
    "        \n",
    "    return np.array(x)"
   ]
  },
  {
   "cell_type": "code",
   "execution_count": 2,
   "metadata": {},
   "outputs": [
    {
     "data": {
      "text/plain": [
       "<Figure size 2000x1000 with 1 Axes>"
      ]
     },
     "metadata": {},
     "output_type": "display_data"
    }
   ],
   "source": [
    "import matplotlib.pyplot as plt\n",
    "import matplotlib.animation as animation\n",
    "import time\n",
    "\n",
    "x0 = 2.5\n",
    "r = 0.01\n",
    "goal = 0.001\n",
    "\n",
    "xs = gradient_descent(x0, r, goal, gradient_type = 'analythical')\n",
    "# xs = gradient_descent(x0, r, goal, gradient_type = 'numeric')\n",
    "\n",
    "ys = f(xs)\n",
    "\n",
    "x = np.arange(-3.0,3.0,0.01)\n",
    "y = f(x)\n",
    "y_prime = f_prime(x)\n",
    "\n",
    "fig = plt.figure(figsize=(20,10))\n",
    "plt.plot(x,0 * x,'--k')\n",
    "plt.plot(x,y)\n",
    "plt.plot(x,y_prime,'g')\n",
    "plt.plot(xs,ys,'or')\n",
    "plt.show()\n"
   ]
  },
  {
   "cell_type": "code",
   "execution_count": null,
   "metadata": {
    "collapsed": true
   },
   "outputs": [],
   "source": []
  }
 ],
 "metadata": {
  "kernelspec": {
   "display_name": "Python 3",
   "language": "python",
   "name": "python3"
  },
  "language_info": {
   "codemirror_mode": {
    "name": "ipython",
    "version": 3
   },
   "file_extension": ".py",
   "mimetype": "text/x-python",
   "name": "python",
   "nbconvert_exporter": "python",
   "pygments_lexer": "ipython3",
   "version": "3.7.4"
  }
 },
 "nbformat": 4,
 "nbformat_minor": 2
}
