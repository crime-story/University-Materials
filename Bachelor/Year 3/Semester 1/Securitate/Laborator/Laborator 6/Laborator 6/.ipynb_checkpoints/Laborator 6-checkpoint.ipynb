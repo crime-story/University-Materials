{
 "cells": [
  {
   "cell_type": "markdown",
   "id": "965794d5",
   "metadata": {},
   "source": [
    "# Laborator 6\n",
    "### Popescu Paullo Robertto Karloss\n",
    "### Grupa 331"
   ]
  },
  {
   "cell_type": "markdown",
   "id": "3af4e70a",
   "metadata": {},
   "source": [
    "### Exercitiul 1"
   ]
  },
  {
   "cell_type": "code",
   "execution_count": null,
   "id": "9047399a",
   "metadata": {},
   "outputs": [],
   "source": []
  },
  {
   "cell_type": "markdown",
   "id": "5e0a5785",
   "metadata": {},
   "source": [
    "### Exercitiul 2"
   ]
  },
  {
   "cell_type": "code",
   "execution_count": 34,
   "id": "61900acc",
   "metadata": {},
   "outputs": [
    {
     "name": "stdout",
     "output_type": "stream",
     "text": [
      "Requirement already satisfied: pycryptodomex in c:\\users\\rober\\anaconda3\\lib\\site-packages (3.15.0)\n"
     ]
    }
   ],
   "source": [
    "!pip install pycryptodomex"
   ]
  },
  {
   "cell_type": "code",
   "execution_count": 35,
   "id": "b2d45719",
   "metadata": {},
   "outputs": [],
   "source": [
    "from Cryptodome.Cipher import AES"
   ]
  },
  {
   "cell_type": "code",
   "execution_count": 36,
   "id": "ed66874e",
   "metadata": {},
   "outputs": [],
   "source": [
    "key = b'O cheie oarecare'\n",
    "data = b'testtesttesttesttesttesttesttesttesttesttesttest'\n",
    "\n",
    "cipher = AES.new(key, AES.MODE_ECB)\n",
    "rez = cipher.encrypt(data)"
   ]
  },
  {
   "cell_type": "code",
   "execution_count": 37,
   "id": "bd7e9034",
   "metadata": {},
   "outputs": [
    {
     "name": "stdout",
     "output_type": "stream",
     "text": [
      "b'\\x88\\x10\\x86\\xe2\\xf3\\xaai)\\x9fz\\xcb\\xf0h4\\xa4\\xec\\x88\\x10\\x86\\xe2\\xf3\\xaai)\\x9fz\\xcb\\xf0h4\\xa4\\xec\\x88\\x10\\x86\\xe2\\xf3\\xaai)\\x9fz\\xcb\\xf0h4\\xa4\\xec'\n"
     ]
    }
   ],
   "source": [
    "# a)\n",
    "print(rez)"
   ]
  },
  {
   "cell_type": "markdown",
   "id": "00968d4a",
   "metadata": {},
   "source": [
    "b) Secventa de mai sus creeaza un text codat simetric (din cheia primita).\n",
    "\n",
    "Algoritmul dat foloseste modul de operare ECB (Electronic Code Book)."
   ]
  },
  {
   "cell_type": "markdown",
   "id": "26cc87e0",
   "metadata": {},
   "source": [
    "c) Nu, modul de operare ECB este nesigur deoarece texte identice sunt codate exact la fel, indiferent de lungimea lor.\n",
    "Astfel un atacator poate observa modele intre mesaje criptate. \n",
    "\n",
    "Exemplu:\n",
    "\n",
    "```\n",
    "b'testtesttesttesttesttesttesttesttesttesttesttesttesttesttesttest'\n",
    "b'testtesttesttesttesttesttesttesttesttesttesttest'\n",
    "```\n",
    "\n",
    "Se afiseaza:\n",
    "\n",
    "b'\\x88\\x10\\x86\\xe2\\xf3\\xaai)\\x9fz\\xcb\\xf0h4\\xa4\\xec\\x88\\x10\\x86\\xe2\\xf3\\xaai)\\x9fz\\xcb\\xf0h4\\xa4\\xec\\x88\\x10\\x86\\xe2\\xf3\\xaai)\\x9fz\\xcb\\xf0h4\\xa4\\xec\\x88\\x10\\x86\\xe2\\xf3\\xaai)\\x9fz\\xcb\\xf0h4\\xa4\\xec'\n",
    "b'\\x88\\x10\\x86\\xe2\\xf3\\xaai)\\x9fz\\xcb\\xf0h4\\xa4\\xec\\x88\\x10\\x86\\xe2\\xf3\\xaai)\\x9fz\\xcb\\xf0h4\\xa4\\xec\\x88\\x10\\x86\\xe2\\xf3\\xaai)\\x9fz\\xcb\\xf0h4\\xa4\\xec'"
   ]
  },
  {
   "cell_type": "markdown",
   "id": "a46bd381",
   "metadata": {},
   "source": [
    "d) Dimensiunea cheii este 16 si a blocului este 48"
   ]
  },
  {
   "cell_type": "code",
   "execution_count": 40,
   "id": "021873bd",
   "metadata": {},
   "outputs": [],
   "source": [
    "# e)\n",
    "if len(data) % 16:\n",
    "    nr = 16 - len(data) % 16\n",
    "else:\n",
    "    nr = 16\n",
    "for i in range(nr):\n",
    "    data += (nr - 1).to_bytes(1, 'big')"
   ]
  },
  {
   "cell_type": "code",
   "execution_count": 39,
   "id": "899d6869",
   "metadata": {},
   "outputs": [
    {
     "name": "stdout",
     "output_type": "stream",
     "text": [
      "b'\\x88\\x10\\x86\\xe2\\xf3\\xaai)\\x9fz\\xcb\\xf0h4\\xa4\\xec\\x88\\x10\\x86\\xe2\\xf3\\xaai)\\x9fz\\xcb\\xf0h4\\xa4\\xec\\x88\\x10\\x86\\xe2\\xf3\\xaai)\\x9fz\\xcb\\xf0h4\\xa4\\xec\\xb7%\\xbd\\xd7P\\xc6\\xec\\xc3\\xbd1}m\"\\x0fI\\x0e'\n"
     ]
    }
   ],
   "source": [
    "cipher = AES.new(key, AES.MODE_ECB)\n",
    "print(cipher.encrypt(data))"
   ]
  },
  {
   "cell_type": "markdown",
   "id": "c4c3bfcd",
   "metadata": {},
   "source": [
    "Vom folosi modul de operare CCM ce suporta blocuri de orice dimensiune (counter with cipher block chaining message authentication code; counter with CBC-MAC)."
   ]
  },
  {
   "cell_type": "code",
   "execution_count": 41,
   "id": "dd739d89",
   "metadata": {},
   "outputs": [
    {
     "name": "stdout",
     "output_type": "stream",
     "text": [
      "b'J\\xba\\x86\\xb0hzO0S\\xb9\\xd7*\\xa7g\\xa6\\xd6#x\\x83\\xc0y\\xa0\\rDO\\xb22Xi\\x9f+GJ\\xee\\x9a\\x9a\\xc61\\xe4\\xd8\\xa9\\xa4\\xf7\\xd2\\xa1\\xc8\\xc6\\x9ew\\xaf\\xa6\"\\x8cA\\x10\\x93A\\x83\\x97\\x90\\xa1A25\\xc8\\xd2\\x1a\\xd04X\\xfd\\x80hy\\xb3\\xb3\\x02y\\xea\\xfb'\n"
     ]
    }
   ],
   "source": [
    "# modificam cu CCM\n",
    "cipher = AES.new(key, AES.MODE_CCM)\n",
    "print(cipher.encrypt(data))"
   ]
  },
  {
   "cell_type": "markdown",
   "id": "8500258f",
   "metadata": {},
   "source": [
    "### Exercitiul 3"
   ]
  },
  {
   "cell_type": "code",
   "execution_count": 42,
   "id": "a660d43b",
   "metadata": {},
   "outputs": [],
   "source": [
    "from Cryptodome.Cipher import DES"
   ]
  },
  {
   "cell_type": "code",
   "execution_count": 43,
   "id": "6c703074",
   "metadata": {},
   "outputs": [],
   "source": [
    "def generate_key(x):\n",
    "    return (x * 16).to_bytes(1, byteorder=\"little\") + b'\\x00\\x00\\x00\\x00\\x00\\x00\\x00'"
   ]
  },
  {
   "cell_type": "code",
   "execution_count": 44,
   "id": "a21f7e5a",
   "metadata": {},
   "outputs": [],
   "source": [
    "crypted = dict()\n",
    "plain_text = \"Provocare MitM!!\""
   ]
  },
  {
   "cell_type": "code",
   "execution_count": 45,
   "id": "21f30230",
   "metadata": {},
   "outputs": [],
   "source": [
    "for nr in range(16):\n",
    "    key = generate_key(nr)\n",
    "    cipher = DES.new(key, DES.MODE_ECB)\n",
    "    ciphertext = cipher.encrypt(plain_text.encode(\"utf-8\"))\n",
    "    crypted[ciphertext] = key"
   ]
  },
  {
   "cell_type": "code",
   "execution_count": 46,
   "id": "b1ca7aed",
   "metadata": {},
   "outputs": [],
   "source": [
    "encrypted_text = b\"G\\xfd\\xdfpd\\xa5\\xc9'C\\xe2\\xf0\\x84)\\xef\\xeb\\xf9\""
   ]
  },
  {
   "cell_type": "code",
   "execution_count": 47,
   "id": "8ee01c57",
   "metadata": {},
   "outputs": [
    {
     "name": "stdout",
     "output_type": "stream",
     "text": [
      "Key has been found!\n",
      "\n",
      "First Key:  b'\\x80\\x00\\x00\\x00\\x00\\x00\\x00\\x00'\n",
      "Second Key:  b'\\xe0\\x00\\x00\\x00\\x00\\x00\\x00\\x00'\n"
     ]
    }
   ],
   "source": [
    "for nr in range(16):\n",
    "    key = generate_key(nr)\n",
    "    cipher = DES.new(key, DES.MODE_ECB)\n",
    "    ciphertext = cipher.decrypt(encrypted_text)\n",
    "    if ciphertext in crypted:\n",
    "        print(\"Key has been found!\\n\")\n",
    "        first_key = crypted[ciphertext]\n",
    "        print(\"First Key: \", first_key)\n",
    "        print(\"Second Key: \", key)"
   ]
  }
 ],
 "metadata": {
  "kernelspec": {
   "display_name": "Python 3 (ipykernel)",
   "language": "python",
   "name": "python3"
  },
  "language_info": {
   "codemirror_mode": {
    "name": "ipython",
    "version": 3
   },
   "file_extension": ".py",
   "mimetype": "text/x-python",
   "name": "python",
   "nbconvert_exporter": "python",
   "pygments_lexer": "ipython3",
   "version": "3.9.12"
  }
 },
 "nbformat": 4,
 "nbformat_minor": 5
}
