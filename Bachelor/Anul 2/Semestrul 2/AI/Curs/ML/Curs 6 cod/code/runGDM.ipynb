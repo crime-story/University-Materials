{
 "cells": [
  {
   "cell_type": "code",
   "execution_count": 1,
   "metadata": {},
   "outputs": [],
   "source": [
    "import numpy as np\n",
    "\n",
    "def f(x):\n",
    "    x = np.array(x, dtype = float)\n",
    "    y = 0.5 * (x**4) - 2 * (x**2) + x + 5\n",
    "    # y = 3 * (x**2) - 2 * x + 1\n",
    "    return y\n",
    "\n",
    "def f_prime(x):\n",
    "    x = np.array(x, dtype = float)\n",
    "    y = 2 * (x**3) - 4 * x + 1\n",
    "    # y = 6 * x - 2\n",
    "    return y\n",
    "\n",
    "def gradient_descent_momentum(x0, r, goal, mu = 0.9, gradient_type = 'analythical'):\n",
    "    x = [x0, x0]\n",
    "    h = 0.0001\n",
    "    performance_goal_not_met = True\n",
    "\n",
    "    while performance_goal_not_met:\n",
    "        x_older = x[-2]\n",
    "        x_old = x[-1]\n",
    "\n",
    "        if gradient_type == 'analythical':\n",
    "            gradient = f_prime(x_old)\n",
    "        elif gradient_type == 'numeric':\n",
    "            gradient = (f(x_old + h) - f(x_old)) / h;\n",
    "\n",
    "        x_new = x_old - r * gradient + mu * (x_old - x_older)\n",
    "\n",
    "        x += [x_new]\n",
    "        performance_goal_not_met = np.abs(x_new - x_old) > goal\n",
    "        \n",
    "    return np.array(x)"
   ]
  },
  {
   "cell_type": "code",
   "execution_count": 2,
   "metadata": {},
   "outputs": [
    {
     "ename": "NameError",
     "evalue": "name 'gradient_descent' is not defined",
     "output_type": "error",
     "traceback": [
      "\u001b[0;31m---------------------------------------------------------------------------\u001b[0m",
      "\u001b[0;31mNameError\u001b[0m                                 Traceback (most recent call last)",
      "\u001b[0;32m<ipython-input-2-c28a6b7cefdd>\u001b[0m in \u001b[0;36m<module>\u001b[0;34m\u001b[0m\n\u001b[1;32m      7\u001b[0m \u001b[0mgoal\u001b[0m \u001b[0;34m=\u001b[0m \u001b[0;36m0.001\u001b[0m\u001b[0;34m\u001b[0m\u001b[0;34m\u001b[0m\u001b[0m\n\u001b[1;32m      8\u001b[0m \u001b[0;34m\u001b[0m\u001b[0m\n\u001b[0;32m----> 9\u001b[0;31m \u001b[0mxs\u001b[0m \u001b[0;34m=\u001b[0m \u001b[0mgradient_descent\u001b[0m\u001b[0;34m(\u001b[0m\u001b[0mx0\u001b[0m\u001b[0;34m,\u001b[0m \u001b[0mr\u001b[0m\u001b[0;34m,\u001b[0m \u001b[0mgoal\u001b[0m\u001b[0;34m,\u001b[0m \u001b[0mgradient_type\u001b[0m \u001b[0;34m=\u001b[0m \u001b[0;34m'analythical'\u001b[0m\u001b[0;34m)\u001b[0m\u001b[0;34m\u001b[0m\u001b[0;34m\u001b[0m\u001b[0m\n\u001b[0m\u001b[1;32m     10\u001b[0m \u001b[0;31m# xs = gradient_descent(x0, r, goal, gradient_type = 'numeric')\u001b[0m\u001b[0;34m\u001b[0m\u001b[0;34m\u001b[0m\u001b[0;34m\u001b[0m\u001b[0m\n\u001b[1;32m     11\u001b[0m \u001b[0;34m\u001b[0m\u001b[0m\n",
      "\u001b[0;31mNameError\u001b[0m: name 'gradient_descent' is not defined"
     ]
    }
   ],
   "source": [
    "import matplotlib.pyplot as plt\n",
    "import matplotlib.animation as animation\n",
    "import time\n",
    "\n",
    "x0 = 2.5\n",
    "r = 0.01\n",
    "goal = 0.001\n",
    "\n",
    "xs = gradient_descent_momentum(x0, r, goal, gradient_type = 'analythical')\n",
    "# xs = gradient_descent(x0, r, goal, gradient_type = 'numeric')\n",
    "\n",
    "ys = f(xs)\n",
    "\n",
    "x = np.arange(-3.0,3.0,0.01)\n",
    "y = f(x)\n",
    "y_prime = f_prime(x)\n",
    "\n",
    "fig = plt.figure(figsize=(20,10))\n",
    "plt.plot(x,0 * x,'--k')\n",
    "plt.plot(x,y)\n",
    "plt.plot(x,y_prime,'g')\n",
    "plt.plot(xs,ys,'or')\n",
    "plt.show()\n"
   ]
  },
  {
   "cell_type": "code",
   "execution_count": null,
   "metadata": {
    "collapsed": true
   },
   "outputs": [],
   "source": []
  }
 ],
 "metadata": {
  "kernelspec": {
   "display_name": "Python 3",
   "language": "python",
   "name": "python3"
  },
  "language_info": {
   "codemirror_mode": {
    "name": "ipython",
    "version": 3
   },
   "file_extension": ".py",
   "mimetype": "text/x-python",
   "name": "python",
   "nbconvert_exporter": "python",
   "pygments_lexer": "ipython3",
   "version": "3.7.4"
  }
 },
 "nbformat": 4,
 "nbformat_minor": 2
}
